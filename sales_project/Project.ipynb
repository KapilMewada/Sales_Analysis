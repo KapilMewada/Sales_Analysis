{
 "cells": [
  {
   "cell_type": "code",
   "execution_count": 95,
   "metadata": {},
   "outputs": [],
   "source": [
    "import pyspark\n",
    "from pyspark.sql import SparkSession\n",
    "from pyspark.sql.functions import *\n",
    "spark=SparkSession.builder.appName('kaggel').getOrCreate()\n",
    "from pyspark.sql.types import StructType, StructField, StringType, IntegerType, DateType\n",
    "\n",
    "\n",
    "Sale_path=r\"C:\\Users\\Dell\\Desktop\\sales_project\\sales.csv.txt\"\n",
    "Menu_path=r\"C:\\Users\\Dell\\Desktop\\sales_project\\menu.csv.txt\"\n",
    "\n",
    "Sales_schema = StructType([\n",
    "    StructField(\"Product_id\", IntegerType(), True),        # Integer\n",
    "    StructField(\"Customer_id\", StringType(), True),  \n",
    "    StructField(\"Order_date\", DateType(), True),  # Datetime\n",
    "    StructField(\"Location\", StringType(), True),  \n",
    "    StructField(\"Source_order\", StringType(), True)\n",
    "])\n",
    "Menu_schema=StructType([\n",
    "    StructField(\"Product_id\",IntegerType(),True),\n",
    "    StructField(\"Product_name\",StringType(),True),\n",
    "    StructField(\"Product_price\",StringType(),True)\n",
    "])\n",
    "\n",
    "\n",
    "df_sales= spark.read.csv(Sale_path,inferSchema=True,schema=Sales_schema,header=\"False\")\n",
    "df_menu= spark.read.csv(Menu_path,inferSchema=True,schema=Menu_schema,header=\"False\")"
   ]
  },
  {
   "cell_type": "markdown",
   "metadata": {},
   "source": [
    "Add Year, Month, Quater Column in Sales data frame\n"
   ]
  },
  {
   "cell_type": "code",
   "execution_count": 61,
   "metadata": {},
   "outputs": [],
   "source": [
    "df_sales=df_sales.withColumn(\"Year\",year(df_sales[\"Order_date\"]))\n",
    "df_sales=df_sales.withColumn(\"Month\",month(df_sales[\"Order_date\"]))\n",
    "df_sales=df_sales.withColumn(\"Quater\",quarter(df_sales[\"Order_date\"]))\n",
    "# df_sales.show()"
   ]
  },
  {
   "cell_type": "markdown",
   "metadata": {},
   "source": [
    "Total Amount Spend By each Customer "
   ]
  },
  {
   "cell_type": "code",
   "execution_count": 74,
   "metadata": {},
   "outputs": [],
   "source": [
    "df_amount=df_sales.join(df_menu,\"Product_id\").groupBy(\"Product_name\").agg(sum(\"Product_price\")).orderBy(\"Product_name\")\n",
    "# df_amount.show()"
   ]
  },
  {
   "cell_type": "markdown",
   "metadata": {},
   "source": [
    "Total amount Spend By Food category\n"
   ]
  },
  {
   "cell_type": "code",
   "execution_count": null,
   "metadata": {},
   "outputs": [],
   "source": [
    "df_amount=df_sales.join(df_menu,\"Product_id\").groupBy(\"Month\").agg(sum(\"Product_price\")).orderBy(\"Month\")\n",
    "# df_amount.show()"
   ]
  },
  {
   "cell_type": "markdown",
   "metadata": {},
   "source": [
    "Total amount Spend in each month"
   ]
  },
  {
   "cell_type": "code",
   "execution_count": null,
   "metadata": {},
   "outputs": [],
   "source": [
    "df_amount=df_sales.join(df_menu,\"Product_id\").groupBy(\"Month\").agg(sum(\"Product_price\")).orderBy(\"Month\")\n",
    "# df_amount.show()"
   ]
  },
  {
   "cell_type": "markdown",
   "metadata": {},
   "source": [
    "Top 3 selling Item"
   ]
  },
  {
   "cell_type": "code",
   "execution_count": 133,
   "metadata": {},
   "outputs": [],
   "source": [
    "# df_amount=df_sales.join(df_menu,\"Product_id\").groupBy(\"Product_name\").agg(count(\"Product_id\")).orderBy(count(\"Product_id\").desc()).show()\n",
    "\n",
    "from pyspark.sql import Window \n",
    "from pyspark.sql.functions import *\n",
    "\n",
    "df_join=df_sales.join(df_menu,\"Product_id\")\n",
    "df_count=df_join.groupBy(\"Product_name\").agg(count(\"Product_id\").alias(\"count\"))\n",
    "\n",
    "\n",
    "window = Window.orderBy(col(\"count\").desc())\n",
    "\n",
    "df_new=df_count.withColumn(\"rank\",dense_rank().over(window))\n",
    "# df_new.filter(col(\"rank\")<=3).show()\n"
   ]
  },
  {
   "cell_type": "markdown",
   "metadata": {},
   "source": [
    "total sales in each country "
   ]
  },
  {
   "cell_type": "code",
   "execution_count": 146,
   "metadata": {},
   "outputs": [],
   "source": [
    "df_revenu=df_sales.join(df_menu,\"Product_id\").groupBy('location').agg(sum(\"Product_price\").alias(\"Total_sales\"))\\\n",
    "    .orderBy(sum(\"Product_price\").desc())\n",
    "\n",
    "# df_revenu.show()"
   ]
  },
  {
   "cell_type": "markdown",
   "metadata": {},
   "source": [
    "total sales by each source"
   ]
  },
  {
   "cell_type": "code",
   "execution_count": null,
   "metadata": {},
   "outputs": [],
   "source": [
    "df_source=df_sales.join(df_menu,\"Product_id\").groupBy(\"Source_order\").agg(sum(\"Product_price\").alias(\"Total_sales\"))\\\n",
    "    .orderBy(sum(\"Product_price\").desc())\n"
   ]
  },
  {
   "cell_type": "code",
   "execution_count": null,
   "metadata": {},
   "outputs": [],
   "source": []
  }
 ],
 "metadata": {
  "kernelspec": {
   "display_name": "Python 3",
   "language": "python",
   "name": "python3"
  },
  "language_info": {
   "codemirror_mode": {
    "name": "ipython",
    "version": 3
   },
   "file_extension": ".py",
   "mimetype": "text/x-python",
   "name": "python",
   "nbconvert_exporter": "python",
   "pygments_lexer": "ipython3",
   "version": "3.13.1"
  }
 },
 "nbformat": 4,
 "nbformat_minor": 2
}
